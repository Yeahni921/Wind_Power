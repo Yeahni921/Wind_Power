{
 "cells": [
  {
   "cell_type": "code",
   "execution_count": 17,
   "metadata": {},
   "outputs": [],
   "source": [
    "import os\n",
    "ipynb_path = os.getcwd()\n",
    "src_path = os.path.join(ipynb_path, '../src/')\n",
    "input_path = os.path.join(\"../input/\")"
   ]
  },
  {
   "cell_type": "code",
   "execution_count": 18,
   "metadata": {},
   "outputs": [
    {
     "name": "stdout",
     "output_type": "stream",
     "text": [
      "Requirement already satisfied: windpowerlib in /home/user/anaconda3/lib/python3.9/site-packages (0.2.2)\r\n",
      "Requirement already satisfied: pandas in /home/user/anaconda3/lib/python3.9/site-packages (from windpowerlib) (1.3.5)\r\n",
      "Requirement already satisfied: requests in /home/user/anaconda3/lib/python3.9/site-packages (from windpowerlib) (2.32.3)\r\n",
      "Requirement already satisfied: python-dateutil>=2.7.3 in /home/user/anaconda3/lib/python3.9/site-packages (from pandas->windpowerlib) (2.8.2)\r\n",
      "Requirement already satisfied: pytz>=2017.3 in /home/user/anaconda3/lib/python3.9/site-packages (from pandas->windpowerlib) (2023.3.post1)\r\n",
      "Requirement already satisfied: numpy>=1.17.3 in /home/user/anaconda3/lib/python3.9/site-packages (from pandas->windpowerlib) (1.23.5)\r\n",
      "Requirement already satisfied: charset-normalizer<4,>=2 in /home/user/anaconda3/lib/python3.9/site-packages (from requests->windpowerlib) (2.0.4)\r\n",
      "Requirement already satisfied: idna<4,>=2.5 in /home/user/anaconda3/lib/python3.9/site-packages (from requests->windpowerlib) (3.4)\r\n",
      "Requirement already satisfied: urllib3<3,>=1.21.1 in /home/user/anaconda3/lib/python3.9/site-packages (from requests->windpowerlib) (1.26.18)\r\n",
      "Requirement already satisfied: certifi>=2017.4.17 in /home/user/anaconda3/lib/python3.9/site-packages (from requests->windpowerlib) (2024.7.4)\r\n",
      "Requirement already satisfied: six>=1.5 in /home/user/anaconda3/lib/python3.9/site-packages (from python-dateutil>=2.7.3->pandas->windpowerlib) (1.16.0)\r\n"
     ]
    }
   ],
   "source": [
    "!pip install windpowerlib"
   ]
  },
  {
   "cell_type": "code",
   "execution_count": 20,
   "metadata": {},
   "outputs": [],
   "source": [
    "\n",
    "import warnings\n",
    "import os\n",
    "import sys\n",
    "\n",
    "import scipy.stats as spst\n",
    "\n",
    "sys.path.append(src_path)\n",
    "\n",
    "import pandas as pd\n",
    "import numpy as np\n",
    "import matplotlib.pyplot as plt\n",
    "import seaborn as sns\n",
    "import dask\n",
    "import dask.dataframe as dd\n",
    "from windpowerlib.wind_speed import logarithmic_profile\n",
    "from utils import uv_to_wsd"
   ]
  },
  {
   "cell_type": "code",
   "execution_count": 21,
   "metadata": {},
   "outputs": [
    {
     "data": {
      "text/plain": [
       "'/home/user/Wind_Power/notebooks'"
      ]
     },
     "execution_count": 21,
     "metadata": {},
     "output_type": "execute_result"
    }
   ],
   "source": [
    "os.getcwd()"
   ]
  },
  {
   "cell_type": "code",
   "execution_count": 22,
   "metadata": {},
   "outputs": [
    {
     "name": "stdout",
     "output_type": "stream",
     "text": [
      "Power:  (155528, 29)\n",
      "train_y:  (52608, 4)\n",
      "LDAPS:  (235818, 15)\n"
     ]
    }
   ],
   "source": [
    "power_2020 = pd.read_parquet(input_path + \"dynamic_report_ewp02_2020_10min.parquet\").rename({'Date/Time': 'dt', 'WTG.Name': 'turbine_id'}, axis=1)[:-3]\n",
    "power_2021 = pd.read_parquet(input_path + \"dynamic_report_ewp02_2021_10min.parquet\").rename({'Date/Time': 'dt', 'WTG.Name': 'turbine_id'}, axis=1)[:-3]\n",
    "power_2022 = pd.read_parquet(input_path + \"dynamic_report_ewp02_2022_10min.parquet\").rename({'Date/Time': 'dt', 'WTG.Name': 'turbine_id'}, axis=1)[:-3]\n",
    "power = pd.concat([power_2020, power_2021, power_2022], ignore_index=True)\n",
    "\n",
    "gj_y = pd.read_parquet(input_path + \"train_y.parquet\").rename({'end_datetime': 'dt'}, axis=1)\n",
    "ldaps = pd.read_parquet(input_path + \"train_ldaps_gyeongju.parquet\")\n",
    "\n",
    "print(\"Power: \", power.shape)\n",
    "print(\"train_y: \", gj_y.shape)\n",
    "print(\"LDAPS: \", ldaps.shape)"
   ]
  },
  {
   "cell_type": "code",
   "execution_count": 23,
   "metadata": {},
   "outputs": [
    {
     "name": "stdout",
     "output_type": "stream",
     "text": [
      "Power:  (155528, 29) 2020-01-01 00:00:00+09:00 2022-12-31 23:50:00+09:00\n",
      "train_y:  (26279, 4) 2020-01-01 01:00:00+09:00 2022-12-30 23:00:00+09:00\n",
      "LDAPS:  (235602, 15) 2020-01-02 00:00:00+09:00 2022-12-30 23:00:00+09:00\n"
     ]
    }
   ],
   "source": [
    "datas = [power, gj_y, ldaps]\n",
    "for d in datas:\n",
    "    try:\n",
    "        d['dt'] = (pd.to_datetime(d['dt'])\n",
    "                    .dt\n",
    "                    .tz_convert(\"Asia/Seoul\"))\n",
    "    except TypeError:\n",
    "        d['dt'] = (pd.to_datetime(d['dt'])\n",
    "                    .dt\n",
    "                    .tz_localize(\"Asia/Seoul\"))\n",
    "\n",
    "gj_y = (gj_y.loc[(gj_y['plant_name'] == \"경주풍력\")\n",
    "                 & (gj_y['dt']).between('2020-01-01', '2022-12-31', inclusive='left')])\n",
    "\n",
    "ldaps = ldaps.loc[ldaps['dt'].between('2020-01-01', '2022-12-31', inclusive='left')]\n",
    "\n",
    "print(\"Power: \", power.shape, power['dt'].min(), power['dt'].max())\n",
    "print(\"train_y: \", gj_y.shape, gj_y['dt'].min(), gj_y['dt'].max())\n",
    "print(\"LDAPS: \", ldaps.shape, ldaps['dt'].min(), ldaps['dt'].max())"
   ]
  },
  {
   "cell_type": "code",
   "execution_count": 24,
   "metadata": {},
   "outputs": [
    {
     "name": "stderr",
     "output_type": "stream",
     "text": [
      "/tmp/ipykernel_104481/85188720.py:2: SettingWithCopyWarning: \n",
      "A value is trying to be set on a copy of a slice from a DataFrame.\n",
      "Try using .loc[row_indexer,col_indexer] = value instead\n",
      "\n",
      "See the caveats in the documentation: https://pandas.pydata.org/pandas-docs/stable/user_guide/indexing.html#returning-a-view-versus-a-copy\n",
      "  ldaps[\"wind_speed\"], ldaps[\"wind_direction\"] = uv_to_wsd(\n",
      "/tmp/ipykernel_104481/85188720.py:6: SettingWithCopyWarning: \n",
      "A value is trying to be set on a copy of a slice from a DataFrame.\n",
      "Try using .loc[row_indexer,col_indexer] = value instead\n",
      "\n",
      "See the caveats in the documentation: https://pandas.pydata.org/pandas-docs/stable/user_guide/indexing.html#returning-a-view-versus-a-copy\n",
      "  ldaps[\"wind_speed_100m\"] = logarithmic_profile(ldaps[\"wind_speed\"], 10, 100, 0.3)\n"
     ]
    }
   ],
   "source": [
    "# add wind speed in 100m feature\n",
    "ldaps[\"wind_speed\"], ldaps[\"wind_direction\"] = uv_to_wsd(\n",
    "    ldaps[\"wind_u_10m\"], ldaps[\"wind_v_10m\"]\n",
    ")\n",
    "\n",
    "ldaps[\"wind_speed_100m\"] = logarithmic_profile(ldaps[\"wind_speed\"], 10, 100, 0.3)"
   ]
  },
  {
   "cell_type": "code",
   "execution_count": 28,
   "metadata": {},
   "outputs": [
    {
     "name": "stdout",
     "output_type": "stream",
     "text": [
      "Index(['dt', 'elevation', 'land_cover', 'surf_rough', 'frictional_vmax_50m',\n",
      "       'frictional_vmin_50m', 'pressure', 'relative_humid', 'specific_humid',\n",
      "       'temp_air', 'storm_u_5m', 'storm_v_5m', 'wind_u_10m', 'wind_v_10m',\n",
      "       'turbine_id', 'wind_speed', 'wind_direction', 'wind_speed_100m'],\n",
      "      dtype='object')\n",
      "Index(['dt', 'turbine_id', 'WTG.Serial', 'AvailabilityForcedOutageTime[Min.]',\n",
      "       'AvailabilityFullPerformanceTime[Min.]',\n",
      "       'AvailabilityRequestedShutdownTime[Min.]',\n",
      "       'AvailabilityScheduledMaintenanceTime[Min.]',\n",
      "       'AvailabilityTechnicalStandbyTime[Min.]',\n",
      "       'EnergyProductionActiveEnergyProduction[KWh]',\n",
      "       'GeneratorAverageWindingTemp.[℃]', 'GridActivePower[kW]',\n",
      "       'GridReactivePower[kVAr]', 'HydraulicSystemPressure[bar]',\n",
      "       'NacelleAirDensity[kg/㎥]', 'NacelleNacellePosition[deg]',\n",
      "       'NacelleOutdoorTemp[℃]', 'NacelleWindDirection[deg]',\n",
      "       'NacelleWindSpeed[m/s]', 'RotorBlade1Pos.[deg]', 'RotorBlade2Pos.[deg]',\n",
      "       'RotorBlade3Pos.[deg]', 'RotorMotor1Pos.[deg]', 'RotorMotor2Pos.[deg]',\n",
      "       'RotorMotor3Pos.[deg]', 'RotorPitch1Angle[deg]',\n",
      "       'RotorPitch2Angle[deg]', 'RotorPitch3Angle[deg]',\n",
      "       'RotorRotorSpeed[rpm]', 'YawYawcablewindup[deg]'],\n",
      "      dtype='object')\n"
     ]
    }
   ],
   "source": [
    "print(ldaps.columns)\n",
    "print(power.columns)"
   ]
  },
  {
   "cell_type": "code",
   "execution_count": 31,
   "metadata": {},
   "outputs": [
    {
     "data": {
      "text/plain": [
       "WTG01    26178\n",
       "WTG02    26178\n",
       "WTG03    26178\n",
       "WTG04    26178\n",
       "WTG05    26178\n",
       "WTG06    26178\n",
       "WTG07    26178\n",
       "WTG08    26178\n",
       "WTG09    26178\n",
       "Name: turbine_id, dtype: int64"
      ]
     },
     "execution_count": 31,
     "metadata": {},
     "output_type": "execute_result"
    }
   ],
   "source": [
    "ldaps['turbine_id'].value_counts()"
   ]
  },
  {
   "cell_type": "code",
   "execution_count": null,
   "metadata": {},
   "outputs": [],
   "source": [
    "wtg_df = pd.merge(ldaps, power, on='turbine_id', how='inner') "
   ]
  },
  {
   "cell_type": "code",
   "execution_count": null,
   "metadata": {},
   "outputs": [],
   "source": []
  },
  {
   "cell_type": "code",
   "execution_count": null,
   "metadata": {},
   "outputs": [],
   "source": []
  },
  {
   "cell_type": "code",
   "execution_count": null,
   "metadata": {},
   "outputs": [],
   "source": []
  },
  {
   "cell_type": "code",
   "execution_count": null,
   "metadata": {},
   "outputs": [],
   "source": []
  },
  {
   "cell_type": "code",
   "execution_count": null,
   "metadata": {},
   "outputs": [],
   "source": []
  },
  {
   "cell_type": "code",
   "execution_count": null,
   "metadata": {},
   "outputs": [],
   "source": []
  },
  {
   "cell_type": "code",
   "execution_count": null,
   "metadata": {},
   "outputs": [],
   "source": []
  },
  {
   "cell_type": "code",
   "execution_count": null,
   "metadata": {},
   "outputs": [],
   "source": []
  }
 ],
 "metadata": {
  "kernelspec": {
   "display_name": "Python 3 (ipykernel)",
   "language": "python",
   "name": "python3"
  },
  "language_info": {
   "codemirror_mode": {
    "name": "ipython",
    "version": 3
   },
   "file_extension": ".py",
   "mimetype": "text/x-python",
   "name": "python",
   "nbconvert_exporter": "python",
   "pygments_lexer": "ipython3",
   "version": "3.9.18"
  }
 },
 "nbformat": 4,
 "nbformat_minor": 2
}
